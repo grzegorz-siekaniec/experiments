{
 "cells": [
  {
   "cell_type": "markdown",
   "metadata": {
    "collapsed": true,
    "pycharm": {
     "name": "#%% md\n"
    }
   },
   "source": [
    "# Ludność wojewdztw"
   ]
  },
  {
   "cell_type": "code",
   "source": [
    "# %matplotlib inline\n",
    "import os\n",
    "import re\n",
    "import zipfile\n",
    "import matplotlib.gridspec as gridspec\n",
    "import matplotlib.pyplot as plt\n",
    "import geopandas  # depends on descartes\n",
    "import numpy as np\n",
    "import pandas as pd\n",
    "import seaborn as sns\n",
    "\n",
    "\n",
    "def read_shape_from_zip(zip_filename):\n",
    "    z = zipfile.ZipFile(zip_filename, mode=\"r\")\n",
    "    dbf_name = list(filter(\n",
    "        lambda x: re.match(r'.*\\.dbf$', os.path.basename(x)),\n",
    "        z.namelist()\n",
    "    ))[0]\n",
    "    z.close()\n",
    "    return geopandas.read_file(dbf_name, encoding='utf-8', vfs='zip://'+zip_filename)\n",
    "\n",
    "\n",
    "fn_woj = '../gis_data/wojewodztwa.zip'\n",
    "woj = read_shape_from_zip(fn_woj)\n",
    "woj['JPT_KOD_JE'] = woj['JPT_KOD_JE'].astype(np.int64)\n",
    "woj.plot()\n",
    "\n",
    "fn_ludnosc = '../data/ludnosc_wojewodztw.csv'\n",
    "\n",
    "df = pd.read_csv(\n",
    "    fn_ludnosc\n",
    ")\n",
    "\n",
    "sns.set(style=\"white\", font_scale=1.2)\n",
    "df = pd.merge(woj, df, on='JPT_KOD_JE')\n",
    "ax = df.plot(column='Ludność Ogółem', cmap='OrRd')\n",
    "ax.set_title(\"Ludność w województwach\")\n",
    "ax.grid(False)\n",
    "ax.set_axis_off()\n",
    "plt.tight_layout()\n",
    "plt.show()\n",
    "\n",
    "r = requests.get('http://bdl.stat.gov.pl/api/v1/variables?subject-id=P2914')\n",
    "r = requests.get('https://bdl.stat.gov.pl/api/v1/data/by-variable/199203?format=json&year=2020')\n",
    "r = requests.get('https://bdl.stat.gov.pl/api/v1/data/by-unit/011200000000?format=json&var-id=199203&year=2020')\n",
    "r = requests.get('https://bdl.stat.gov.pl/api/v1/data/localities/by-variable/199203?format=json&unit-parent-id=000000000000&year=2020')\n",
    "\n",
    "# liczba mieszkanow dla alopolskiego za 2020\n",
    "requests.get('https://bdl.stat.gov.pl/api/v1/data/by-unit/011200000000?format=json&var-id=199203&year=2020')\n",
    "\n",
    "# dane dla wojewodztw:\n",
    "requests.get('https://bdl.stat.gov.pl/api/v1/data/by-variable/199203?year=2020&unit-level=2&aggregate-id=1&page=0&page-size=10')\n",
    "requests.get('https://bdl.stat.gov.pl/api/v1/data/by-variable/199203?year=2020&unit-level=2&aggregate-id=1').json()\n",
    "requests.get('https://bdl.stat.gov.pl/api/v1/data/by-variable/199203?year=2020&unit-level=2').json()"
   ],
   "metadata": {
    "collapsed": false,
    "pycharm": {
     "name": "#%%\n"
    }
   },
   "execution_count": null,
   "outputs": []
  }
 ],
 "metadata": {
  "kernelspec": {
   "display_name": "Python 3",
   "language": "python",
   "name": "python3"
  },
  "language_info": {
   "codemirror_mode": {
    "name": "ipython",
    "version": 2
   },
   "file_extension": ".py",
   "mimetype": "text/x-python",
   "name": "python",
   "nbconvert_exporter": "python",
   "pygments_lexer": "ipython2",
   "version": "2.7.6"
  }
 },
 "nbformat": 4,
 "nbformat_minor": 0
}