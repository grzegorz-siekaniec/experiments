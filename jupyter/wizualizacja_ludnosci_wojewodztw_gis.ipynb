{
 "cells": [
  {
   "cell_type": "markdown",
   "metadata": {
    "collapsed": true,
    "pycharm": {
     "name": "#%% md\n"
    }
   },
   "source": [
    "# Ludność wojewdztw\n",
    "\n",
    "Naszym celem jest napisanie prostego skryptu/programu w języku Python, który pobierze informacje na temat liczby ludności w województwach i powiazane dane GIS i je zwizualizuje.\n",
    "\n",
    "Zacznijmy od wczytania wszystkich pakietów, które będziemy używać:\n"
   ]
  },
  {
   "cell_type": "code",
   "execution_count": 41,
   "outputs": [],
   "source": [
    "%matplotlib inline\n",
    "import os\n",
    "import re\n",
    "from pathlib import Path\n",
    "\n",
    "import zipfile\n",
    "import matplotlib.gridspec as gridspec\n",
    "import matplotlib.pyplot as plt\n",
    "import geopandas  # depends on descartes\n",
    "import numpy as np\n",
    "import pandas as pd\n",
    "import seaborn as sns\n",
    "import requests"
   ],
   "metadata": {
    "collapsed": false,
    "pycharm": {
     "name": "#%%\n"
    }
   }
  },
  {
   "cell_type": "markdown",
   "source": [
    "Kolejny krokiem jest wczytania danych GIS. W tej części korzystałem z informacji i kodu zawartego z bardzo pomocnego [wpisu blogowego](https://www.mimuw.edu.pl/~walen/vis/wybory2018/)."
   ],
   "metadata": {
    "collapsed": false,
    "pycharm": {
     "name": "#%% md\n"
    }
   }
  },
  {
   "cell_type": "code",
   "execution_count": 42,
   "outputs": [],
   "source": [
    "gis_data_dir = '../gis_data'\n",
    "def read_shape_from_zip(zip_filename):\n",
    "    z = zipfile.ZipFile(zip_filename, mode=\"r\")\n",
    "    dbf_name = list(filter(\n",
    "        lambda x: re.match(r'.*\\.dbf$', os.path.basename(x)),\n",
    "        z.namelist()\n",
    "    ))[0]\n",
    "    z.close()\n",
    "    return geopandas.read_file(dbf_name, encoding='utf-8', vfs='zip://'+zip_filename)\n",
    "\n",
    "fn_woj = f'{gis_data_dir}/wojewodztwa.zip'\n",
    "woj = read_shape_from_zip(fn_woj)\n",
    "# woj['JPT_KOD_JE'] = woj['JPT_KOD_JE'].astype(np.int64)\n",
    "# woj.plot()"
   ],
   "metadata": {
    "collapsed": false,
    "pycharm": {
     "name": "#%%\n"
    }
   }
  },
  {
   "cell_type": "markdown",
   "source": [
    "Kolejny krok to znalezienie danych dotyczących liczby lundości w danych województwie. W tym celu trzeba wykonać odrobinę pracy detektywistycznej w bazach GUSu.\n",
    "\n",
    "1. Zaczynamy od przeszukania zasobów [Banku Danych Lokalnych](https://bdl.stat.gov.pl/BDL/start).\n",
    "2. Może tam odnaleźć między innymi kategorię \"Ludność\":\n",
    "\n",
    "![GUS - lista kategorii](pics/gus_dane_bdl_ludnosc_1.png)\n",
    "\n",
    "3. Kilkamy \"Dalej\", żeby dostać się do szczegółowych informacji.\n",
    "\n",
    "![GUS - lista kategorii](pics/gus_dane_bdl_ludnosc_2.png)\n",
    "\n",
    "Kluczowe dla nas są identyfikatory kategorii/grupy i podgrupy.\n",
    "\n",
    "4. Wchodzimy na strony GUS dotyczące [API dla BDL](https://api.stat.gov.pl/Home/BdlApi).\n",
    "5. Korzystając z wcześniej wynotowanych identifkatorów podgrupy pobieramy listę zmiennych dla wybranego tematu:"
   ],
   "metadata": {
    "collapsed": false,
    "pycharm": {
     "name": "#%% md\n"
    }
   }
  },
  {
   "cell_type": "code",
   "execution_count": 43,
   "outputs": [
    {
     "data": {
      "text/plain": "{'totalRecords': 12,\n 'page': 0,\n 'pageSize': 10,\n 'links': {'first': 'https://bdl.stat.gov.pl/api/v1/variables?subject-id=P2914&page=0&page-size=10',\n  'self': 'https://bdl.stat.gov.pl/api/v1/variables?subject-id=P2914&page=0&page-size=10',\n  'next': 'https://bdl.stat.gov.pl/api/v1/variables?subject-id=P2914&page=1&page-size=10',\n  'last': 'https://bdl.stat.gov.pl/api/v1/variables?subject-id=P2914&page=1&page-size=10'},\n 'results': [{'id': 199202,\n   'subjectId': 'P2914',\n   'n1': 'gminy bez miast na prawach powiatu',\n   'n2': 'miejsce zamieszkania',\n   'n3': 'stan na 30 czerwca',\n   'n4': 'ogółem',\n   'level': 6,\n   'measureUnitId': 26,\n   'measureUnitName': 'osoba'},\n  {'id': 199194,\n   'subjectId': 'P2914',\n   'n1': 'gminy bez miast na prawach powiatu',\n   'n2': 'miejsce zamieszkania',\n   'n3': 'stan na 30 czerwca',\n   'n4': 'mężczyźni',\n   'level': 6,\n   'measureUnitId': 26,\n   'measureUnitName': 'osoba'},\n  {'id': 199186,\n   'subjectId': 'P2914',\n   'n1': 'gminy bez miast na prawach powiatu',\n   'n2': 'miejsce zamieszkania',\n   'n3': 'stan na 30 czerwca',\n   'n4': 'kobiety',\n   'level': 6,\n   'measureUnitId': 26,\n   'measureUnitName': 'osoba'},\n  {'id': 199206,\n   'subjectId': 'P2914',\n   'n1': 'gminy bez miast na prawach powiatu',\n   'n2': 'miejsce zamieszkania',\n   'n3': 'stan na 31 grudnia',\n   'n4': 'ogółem',\n   'level': 6,\n   'measureUnitId': 26,\n   'measureUnitName': 'osoba'},\n  {'id': 199198,\n   'subjectId': 'P2914',\n   'n1': 'gminy bez miast na prawach powiatu',\n   'n2': 'miejsce zamieszkania',\n   'n3': 'stan na 31 grudnia',\n   'n4': 'mężczyźni',\n   'level': 6,\n   'measureUnitId': 26,\n   'measureUnitName': 'osoba'},\n  {'id': 199190,\n   'subjectId': 'P2914',\n   'n1': 'gminy bez miast na prawach powiatu',\n   'n2': 'miejsce zamieszkania',\n   'n3': 'stan na 31 grudnia',\n   'n4': 'kobiety',\n   'level': 6,\n   'measureUnitId': 26,\n   'measureUnitName': 'osoba'},\n  {'id': 199203,\n   'subjectId': 'P2914',\n   'n1': 'miasta na prawach powiatu',\n   'n2': 'miejsce zamieszkania',\n   'n3': 'stan na 30 czerwca',\n   'n4': 'ogółem',\n   'level': 6,\n   'measureUnitId': 26,\n   'measureUnitName': 'osoba'},\n  {'id': 199195,\n   'subjectId': 'P2914',\n   'n1': 'miasta na prawach powiatu',\n   'n2': 'miejsce zamieszkania',\n   'n3': 'stan na 30 czerwca',\n   'n4': 'mężczyźni',\n   'level': 6,\n   'measureUnitId': 26,\n   'measureUnitName': 'osoba'},\n  {'id': 199187,\n   'subjectId': 'P2914',\n   'n1': 'miasta na prawach powiatu',\n   'n2': 'miejsce zamieszkania',\n   'n3': 'stan na 30 czerwca',\n   'n4': 'kobiety',\n   'level': 6,\n   'measureUnitId': 26,\n   'measureUnitName': 'osoba'},\n  {'id': 199207,\n   'subjectId': 'P2914',\n   'n1': 'miasta na prawach powiatu',\n   'n2': 'miejsce zamieszkania',\n   'n3': 'stan na 31 grudnia',\n   'n4': 'ogółem',\n   'level': 6,\n   'measureUnitId': 26,\n   'measureUnitName': 'osoba'}]}"
     },
     "execution_count": 43,
     "metadata": {},
     "output_type": "execute_result"
    }
   ],
   "source": [
    "r = requests.get('http://bdl.stat.gov.pl/api/v1/variables?subject-id=P2914')\n",
    "r.json()"
   ],
   "metadata": {
    "collapsed": false,
    "pycharm": {
     "name": "#%%\n"
    }
   }
  },
  {
   "cell_type": "markdown",
   "source": [
    "Dostaliśmy szereg zmiennych. Teraz musimy wybrać te, które nas interesują. Bedą to:\n",
    "\n",
    "```\n",
    "{\n",
    "  'id': 199207,\n",
    "  'subjectId': 'P2914',\n",
    "  'n1': 'miasta na prawach powiatu',\n",
    "  'n2': 'miejsce zamieszkania',\n",
    "  'n3': 'stan na 31 grudnia',\n",
    "  'n4': 'ogółem',\n",
    "  'level': 6,\n",
    "  'measureUnitId': 26,\n",
    "  'measureUnitName': 'osoba'\n",
    "},\n",
    "{\n",
    "  'id': 199206,\n",
    "  'subjectId': 'P2914',\n",
    "  'n1': 'gminy bez miast na prawach powiatu',\n",
    "  'n2': 'miejsce zamieszkania',\n",
    "  'n3': 'stan na 31 grudnia',\n",
    "  'n4': 'ogółem',\n",
    "  'level': 6,\n",
    "  'measureUnitId': 26,\n",
    "  'measureUnitName': 'osoba'\n",
    "}\n",
    "```\n",
    "\n",
    "Kolejny krokiem jest pobranie danych dla wybranch zmiennych na pozomie zagregowanych do poziomu województw. Odrobina poszukiwań w dokumentacji prowadzi nas do, gdzie zmienną jest `id` z powyższych rekordów:"
   ],
   "metadata": {
    "collapsed": false,
    "pycharm": {
     "name": "#%% md\n"
    }
   }
  },
  {
   "cell_type": "code",
   "execution_count": 44,
   "outputs": [],
   "source": [
    "r1 = requests.get('https://bdl.stat.gov.pl/api/v1/data/by-variable/199207?year=2020&unit-level=2&page-size=20')\n",
    "r2 = requests.get('https://bdl.stat.gov.pl/api/v1/data/by-variable/199206?year=2020&unit-level=2&page-size=20')\n",
    "\n",
    "gminy_miasta_na_prawach_powiat = r1.json()\n",
    "gminy_bez_miast_na_prawach_powiatu = r2.json()"
   ],
   "metadata": {
    "collapsed": false,
    "pycharm": {
     "name": "#%%\n"
    }
   }
  },
  {
   "cell_type": "markdown",
   "source": [
    "Zobaczy rezultaty:"
   ],
   "metadata": {
    "collapsed": false,
    "pycharm": {
     "name": "#%% md\n"
    }
   }
  },
  {
   "cell_type": "code",
   "execution_count": 45,
   "outputs": [
    {
     "data": {
      "text/plain": "[{'id': '011200000000',\n  'name': 'MAŁOPOLSKIE',\n  'values': [{'year': '2020', 'val': 971022, 'attrId': 1}]},\n {'id': '012400000000',\n  'name': 'ŚLĄSKIE',\n  'values': [{'year': '2020', 'val': 2498095, 'attrId': 1}]},\n {'id': '020800000000',\n  'name': 'LUBUSKIE',\n  'values': [{'year': '2020', 'val': 263481, 'attrId': 1}]}]"
     },
     "execution_count": 45,
     "metadata": {},
     "output_type": "execute_result"
    }
   ],
   "source": [
    "gminy_miasta_na_prawach_powiat['results'][:3]"
   ],
   "metadata": {
    "collapsed": false,
    "pycharm": {
     "name": "#%%\n"
    }
   }
  },
  {
   "cell_type": "code",
   "execution_count": 46,
   "outputs": [
    {
     "data": {
      "text/plain": "[{'id': '011200000000',\n  'name': 'MAŁOPOLSKIE',\n  'values': [{'year': '2020', 'val': 2439419, 'attrId': 1}]},\n {'id': '012400000000',\n  'name': 'ŚLĄSKIE',\n  'values': [{'year': '2020', 'val': 1994235, 'attrId': 1}]},\n {'id': '020800000000',\n  'name': 'LUBUSKIE',\n  'values': [{'year': '2020', 'val': 743664, 'attrId': 1}]}]"
     },
     "execution_count": 46,
     "metadata": {},
     "output_type": "execute_result"
    }
   ],
   "source": [
    "gminy_bez_miast_na_prawach_powiatu['results'][:3]"
   ],
   "metadata": {
    "collapsed": false,
    "pycharm": {
     "name": "#%%\n"
    }
   }
  },
  {
   "cell_type": "markdown",
   "source": [
    "Porównajmy zawartość `id` z kodem terytorialnym będącym częścią danych GIS:"
   ],
   "metadata": {
    "collapsed": false,
    "pycharm": {
     "name": "#%% md\n"
    }
   }
  },
  {
   "cell_type": "code",
   "execution_count": 47,
   "outputs": [
    {
     "data": {
      "text/plain": "  JPT_SJR_KO JPT_KOD_JE      JPT_NAZWA_ JPT_ORGAN_  JPT_JOR_ID   WERSJA_OD  \\\n0        WOJ         24         śląskie       None           0  2017-10-10   \n1        WOJ         16        opolskie       None           0  2017-10-10   \n2        WOJ         26  świętokrzyskie       None           0  2012-09-26   \n3        WOJ         22       pomorskie       None           0  2020-04-09   \n4        WOJ         20       podlaskie       None           0  2019-03-21   \n\n  WERSJA_DO    WAZNY_OD WAZNY_DO JPT_KOD__1  ... JPT_KJ_I_1 JPT_KJ_I_2  \\\n0      None  2012-09-26     None       None  ...         24       None   \n1      None  2012-09-26     None       None  ...         16       None   \n2      None  2012-09-26     None       None  ...         26       None   \n3      None  2012-09-26     None       None  ...         22       None   \n4      None  2012-09-26     None       None  ...         20       None   \n\n  JPT_OPIS  JPT_SPS_KO  ID_BUFOR_1   JPT_ID JPT_KJ_I_3 Shape_Leng Shape_Area  \\\n0     None         UZG           0  1331323       None  12.136952   1.557335   \n1     None         UZG           0  1331326       None   9.005207   1.196205   \n2     None         UZG           0   829374       None   9.264959   1.491827   \n3     None         UZG           0  1358902       None  13.167595   2.520630   \n4     None         UZG           0  1353685       None  11.101166   2.718484   \n\n                                            geometry  \n0  MULTIPOLYGON (((494179.526 358814.295, 494173....  \n1  POLYGON ((417001.841 369554.248, 417005.901 36...  \n2  POLYGON ((549668.108 320839.847, 549676.668 32...  \n3  POLYGON ((414159.332 769636.478, 414269.395 76...  \n4  POLYGON ((700075.252 572284.982, 700055.491 57...  \n\n[5 rows x 30 columns]",
      "text/html": "<div>\n<style scoped>\n    .dataframe tbody tr th:only-of-type {\n        vertical-align: middle;\n    }\n\n    .dataframe tbody tr th {\n        vertical-align: top;\n    }\n\n    .dataframe thead th {\n        text-align: right;\n    }\n</style>\n<table border=\"1\" class=\"dataframe\">\n  <thead>\n    <tr style=\"text-align: right;\">\n      <th></th>\n      <th>JPT_SJR_KO</th>\n      <th>JPT_KOD_JE</th>\n      <th>JPT_NAZWA_</th>\n      <th>JPT_ORGAN_</th>\n      <th>JPT_JOR_ID</th>\n      <th>WERSJA_OD</th>\n      <th>WERSJA_DO</th>\n      <th>WAZNY_OD</th>\n      <th>WAZNY_DO</th>\n      <th>JPT_KOD__1</th>\n      <th>...</th>\n      <th>JPT_KJ_I_1</th>\n      <th>JPT_KJ_I_2</th>\n      <th>JPT_OPIS</th>\n      <th>JPT_SPS_KO</th>\n      <th>ID_BUFOR_1</th>\n      <th>JPT_ID</th>\n      <th>JPT_KJ_I_3</th>\n      <th>Shape_Leng</th>\n      <th>Shape_Area</th>\n      <th>geometry</th>\n    </tr>\n  </thead>\n  <tbody>\n    <tr>\n      <th>0</th>\n      <td>WOJ</td>\n      <td>24</td>\n      <td>śląskie</td>\n      <td>None</td>\n      <td>0</td>\n      <td>2017-10-10</td>\n      <td>None</td>\n      <td>2012-09-26</td>\n      <td>None</td>\n      <td>None</td>\n      <td>...</td>\n      <td>24</td>\n      <td>None</td>\n      <td>None</td>\n      <td>UZG</td>\n      <td>0</td>\n      <td>1331323</td>\n      <td>None</td>\n      <td>12.136952</td>\n      <td>1.557335</td>\n      <td>MULTIPOLYGON (((494179.526 358814.295, 494173....</td>\n    </tr>\n    <tr>\n      <th>1</th>\n      <td>WOJ</td>\n      <td>16</td>\n      <td>opolskie</td>\n      <td>None</td>\n      <td>0</td>\n      <td>2017-10-10</td>\n      <td>None</td>\n      <td>2012-09-26</td>\n      <td>None</td>\n      <td>None</td>\n      <td>...</td>\n      <td>16</td>\n      <td>None</td>\n      <td>None</td>\n      <td>UZG</td>\n      <td>0</td>\n      <td>1331326</td>\n      <td>None</td>\n      <td>9.005207</td>\n      <td>1.196205</td>\n      <td>POLYGON ((417001.841 369554.248, 417005.901 36...</td>\n    </tr>\n    <tr>\n      <th>2</th>\n      <td>WOJ</td>\n      <td>26</td>\n      <td>świętokrzyskie</td>\n      <td>None</td>\n      <td>0</td>\n      <td>2012-09-26</td>\n      <td>None</td>\n      <td>2012-09-26</td>\n      <td>None</td>\n      <td>None</td>\n      <td>...</td>\n      <td>26</td>\n      <td>None</td>\n      <td>None</td>\n      <td>UZG</td>\n      <td>0</td>\n      <td>829374</td>\n      <td>None</td>\n      <td>9.264959</td>\n      <td>1.491827</td>\n      <td>POLYGON ((549668.108 320839.847, 549676.668 32...</td>\n    </tr>\n    <tr>\n      <th>3</th>\n      <td>WOJ</td>\n      <td>22</td>\n      <td>pomorskie</td>\n      <td>None</td>\n      <td>0</td>\n      <td>2020-04-09</td>\n      <td>None</td>\n      <td>2012-09-26</td>\n      <td>None</td>\n      <td>None</td>\n      <td>...</td>\n      <td>22</td>\n      <td>None</td>\n      <td>None</td>\n      <td>UZG</td>\n      <td>0</td>\n      <td>1358902</td>\n      <td>None</td>\n      <td>13.167595</td>\n      <td>2.520630</td>\n      <td>POLYGON ((414159.332 769636.478, 414269.395 76...</td>\n    </tr>\n    <tr>\n      <th>4</th>\n      <td>WOJ</td>\n      <td>20</td>\n      <td>podlaskie</td>\n      <td>None</td>\n      <td>0</td>\n      <td>2019-03-21</td>\n      <td>None</td>\n      <td>2012-09-26</td>\n      <td>None</td>\n      <td>None</td>\n      <td>...</td>\n      <td>20</td>\n      <td>None</td>\n      <td>None</td>\n      <td>UZG</td>\n      <td>0</td>\n      <td>1353685</td>\n      <td>None</td>\n      <td>11.101166</td>\n      <td>2.718484</td>\n      <td>POLYGON ((700075.252 572284.982, 700055.491 57...</td>\n    </tr>\n  </tbody>\n</table>\n<p>5 rows × 30 columns</p>\n</div>"
     },
     "execution_count": 47,
     "metadata": {},
     "output_type": "execute_result"
    }
   ],
   "source": [
    "woj.head()"
   ],
   "metadata": {
    "collapsed": false,
    "pycharm": {
     "name": "#%%\n"
    }
   }
  },
  {
   "cell_type": "markdown",
   "source": [
    "Skupmy się dla przykładu na danych dotycząaych województwa małopolskiego. Z danych BDL mamy:\n",
    "\n",
    "```\n",
    "{\n",
    "    'id': '012400000000',\n",
    "    'name': 'ŚLĄSKIE',\n",
    "}\n",
    "```\n",
    "\n",
    "Z kolei widzimy, że w kolumnie `JPT_KOD_JE` dla województwa śląskiego mamy - `24`. Czyli, jeżeli zdecydujemy się wziąć podsłowo składające się z trzeciej i czwartej litery `id`, dostaniemy tą samą wartość. Szybki rzut oka pozwala zauważyć, że ta sama metoda działa dla pozostałych województw. Idealnym rozwiązaniem byłby dostęp do kodów bazy TERYT w BDL. Niestety musimy zadowolić się tym obejściem. Korzystając z poczynionych powyżej uwag, wczytajmy i przekształćmy dane z API BDL do `DataFrame`"
   ],
   "metadata": {
    "collapsed": false,
    "pycharm": {
     "name": "#%% md\n"
    }
   }
  },
  {
   "cell_type": "code",
   "execution_count": 48,
   "outputs": [
    {
     "data": {
      "text/plain": "   JPT_KOD_JE  Ludność gmin miast na prawach powiatu  \\\n0          12                                 971022   \n1          24                                2498095   \n2           8                                 263481   \n3          30                                 766547   \n4          32                                 545438   \n\n   Ludność gmin bez miast na prawach powiatu  Ludność Ogółem  \n0                                    2439419         3410441  \n1                                    1994235         4492330  \n2                                     743664         1007145  \n3                                    2729903         3496450  \n4                                    1142609         1688047  ",
      "text/html": "<div>\n<style scoped>\n    .dataframe tbody tr th:only-of-type {\n        vertical-align: middle;\n    }\n\n    .dataframe tbody tr th {\n        vertical-align: top;\n    }\n\n    .dataframe thead th {\n        text-align: right;\n    }\n</style>\n<table border=\"1\" class=\"dataframe\">\n  <thead>\n    <tr style=\"text-align: right;\">\n      <th></th>\n      <th>JPT_KOD_JE</th>\n      <th>Ludność gmin miast na prawach powiatu</th>\n      <th>Ludność gmin bez miast na prawach powiatu</th>\n      <th>Ludność Ogółem</th>\n    </tr>\n  </thead>\n  <tbody>\n    <tr>\n      <th>0</th>\n      <td>12</td>\n      <td>971022</td>\n      <td>2439419</td>\n      <td>3410441</td>\n    </tr>\n    <tr>\n      <th>1</th>\n      <td>24</td>\n      <td>2498095</td>\n      <td>1994235</td>\n      <td>4492330</td>\n    </tr>\n    <tr>\n      <th>2</th>\n      <td>8</td>\n      <td>263481</td>\n      <td>743664</td>\n      <td>1007145</td>\n    </tr>\n    <tr>\n      <th>3</th>\n      <td>30</td>\n      <td>766547</td>\n      <td>2729903</td>\n      <td>3496450</td>\n    </tr>\n    <tr>\n      <th>4</th>\n      <td>32</td>\n      <td>545438</td>\n      <td>1142609</td>\n      <td>1688047</td>\n    </tr>\n  </tbody>\n</table>\n</div>"
     },
     "execution_count": 48,
     "metadata": {},
     "output_type": "execute_result"
    }
   ],
   "source": [
    "dane_gminy_miasta = [\n",
    "    {\n",
    "        'JPT_KOD_JE': int(rec['id'][2:4]),\n",
    "        'Ludność gmin miast na prawach powiatu': rec['values'][0]['val']\n",
    "    }\n",
    "    for rec in gminy_miasta_na_prawach_powiat['results']\n",
    "]\n",
    "\n",
    "dane_gminy_bez_miast = [\n",
    "    {\n",
    "        'JPT_KOD_JE': int(rec['id'][2:4]),\n",
    "        'Ludność gmin bez miast na prawach powiatu': rec['values'][0]['val']\n",
    "    }\n",
    "    for rec in gminy_bez_miast_na_prawach_powiatu['results']\n",
    "]\n",
    "\n",
    "df_ludnosc = pd.merge(pd.DataFrame(dane_gminy_miasta), pd.DataFrame(dane_gminy_bez_miast), on='JPT_KOD_JE')\n",
    "df_ludnosc['Ludność Ogółem'] = df_ludnosc['Ludność gmin miast na prawach powiatu'] +  df_ludnosc['Ludność gmin bez miast na prawach powiatu']\n",
    "df_ludnosc.head()"
   ],
   "metadata": {
    "collapsed": false,
    "pycharm": {
     "name": "#%%\n"
    }
   }
  },
  {
   "cell_type": "markdown",
   "source": [
    "Połączmy teraz dane dotyczące ludności i dane GIS."
   ],
   "metadata": {
    "collapsed": false,
    "pycharm": {
     "name": "#%% md\n"
    }
   }
  },
  {
   "cell_type": "code",
   "source": [
    "df_ludnosc_wojewodztwa = pd.merge(woj, df_ludnosc, on='JPT_KOD_JE')"
   ],
   "metadata": {
    "collapsed": false,
    "pycharm": {
     "name": "#%%\n"
    }
   },
   "execution_count": 49,
   "outputs": [
    {
     "ename": "ValueError",
     "evalue": "You are trying to merge on object and int64 columns. If you wish to proceed you should use pd.concat",
     "output_type": "error",
     "traceback": [
      "\u001B[0;31m---------------------------------------------------------------------------\u001B[0m",
      "\u001B[0;31mValueError\u001B[0m                                Traceback (most recent call last)",
      "\u001B[0;32m<ipython-input-49-7ceee05ae0ac>\u001B[0m in \u001B[0;36m<module>\u001B[0;34m\u001B[0m\n\u001B[0;32m----> 1\u001B[0;31m \u001B[0mdf_ludnosc_wojewodztwa\u001B[0m \u001B[0;34m=\u001B[0m \u001B[0mpd\u001B[0m\u001B[0;34m.\u001B[0m\u001B[0mmerge\u001B[0m\u001B[0;34m(\u001B[0m\u001B[0mwoj\u001B[0m\u001B[0;34m,\u001B[0m \u001B[0mdf_ludnosc\u001B[0m\u001B[0;34m,\u001B[0m \u001B[0mon\u001B[0m\u001B[0;34m=\u001B[0m\u001B[0;34m'JPT_KOD_JE'\u001B[0m\u001B[0;34m)\u001B[0m\u001B[0;34m\u001B[0m\u001B[0;34m\u001B[0m\u001B[0m\n\u001B[0m",
      "\u001B[0;32m~/anaconda3/lib/python3.7/site-packages/pandas/core/reshape/merge.py\u001B[0m in \u001B[0;36mmerge\u001B[0;34m(left, right, how, on, left_on, right_on, left_index, right_index, sort, suffixes, copy, indicator, validate)\u001B[0m\n\u001B[1;32m     45\u001B[0m                          \u001B[0mright_index\u001B[0m\u001B[0;34m=\u001B[0m\u001B[0mright_index\u001B[0m\u001B[0;34m,\u001B[0m \u001B[0msort\u001B[0m\u001B[0;34m=\u001B[0m\u001B[0msort\u001B[0m\u001B[0;34m,\u001B[0m \u001B[0msuffixes\u001B[0m\u001B[0;34m=\u001B[0m\u001B[0msuffixes\u001B[0m\u001B[0;34m,\u001B[0m\u001B[0;34m\u001B[0m\u001B[0;34m\u001B[0m\u001B[0m\n\u001B[1;32m     46\u001B[0m                          \u001B[0mcopy\u001B[0m\u001B[0;34m=\u001B[0m\u001B[0mcopy\u001B[0m\u001B[0;34m,\u001B[0m \u001B[0mindicator\u001B[0m\u001B[0;34m=\u001B[0m\u001B[0mindicator\u001B[0m\u001B[0;34m,\u001B[0m\u001B[0;34m\u001B[0m\u001B[0;34m\u001B[0m\u001B[0m\n\u001B[0;32m---> 47\u001B[0;31m                          validate=validate)\n\u001B[0m\u001B[1;32m     48\u001B[0m     \u001B[0;32mreturn\u001B[0m \u001B[0mop\u001B[0m\u001B[0;34m.\u001B[0m\u001B[0mget_result\u001B[0m\u001B[0;34m(\u001B[0m\u001B[0;34m)\u001B[0m\u001B[0;34m\u001B[0m\u001B[0;34m\u001B[0m\u001B[0m\n\u001B[1;32m     49\u001B[0m \u001B[0;34m\u001B[0m\u001B[0m\n",
      "\u001B[0;32m~/anaconda3/lib/python3.7/site-packages/pandas/core/reshape/merge.py\u001B[0m in \u001B[0;36m__init__\u001B[0;34m(self, left, right, how, on, left_on, right_on, axis, left_index, right_index, sort, suffixes, copy, indicator, validate)\u001B[0m\n\u001B[1;32m    531\u001B[0m         \u001B[0;31m# validate the merge keys dtypes. We may need to coerce\u001B[0m\u001B[0;34m\u001B[0m\u001B[0;34m\u001B[0m\u001B[0;34m\u001B[0m\u001B[0m\n\u001B[1;32m    532\u001B[0m         \u001B[0;31m# to avoid incompat dtypes\u001B[0m\u001B[0;34m\u001B[0m\u001B[0;34m\u001B[0m\u001B[0;34m\u001B[0m\u001B[0m\n\u001B[0;32m--> 533\u001B[0;31m         \u001B[0mself\u001B[0m\u001B[0;34m.\u001B[0m\u001B[0m_maybe_coerce_merge_keys\u001B[0m\u001B[0;34m(\u001B[0m\u001B[0;34m)\u001B[0m\u001B[0;34m\u001B[0m\u001B[0;34m\u001B[0m\u001B[0m\n\u001B[0m\u001B[1;32m    534\u001B[0m \u001B[0;34m\u001B[0m\u001B[0m\n\u001B[1;32m    535\u001B[0m         \u001B[0;31m# If argument passed to validate,\u001B[0m\u001B[0;34m\u001B[0m\u001B[0;34m\u001B[0m\u001B[0;34m\u001B[0m\u001B[0m\n",
      "\u001B[0;32m~/anaconda3/lib/python3.7/site-packages/pandas/core/reshape/merge.py\u001B[0m in \u001B[0;36m_maybe_coerce_merge_keys\u001B[0;34m(self)\u001B[0m\n\u001B[1;32m    978\u001B[0m                       (inferred_right in string_types and\n\u001B[1;32m    979\u001B[0m                        inferred_left not in string_types)):\n\u001B[0;32m--> 980\u001B[0;31m                     \u001B[0;32mraise\u001B[0m \u001B[0mValueError\u001B[0m\u001B[0;34m(\u001B[0m\u001B[0mmsg\u001B[0m\u001B[0;34m)\u001B[0m\u001B[0;34m\u001B[0m\u001B[0;34m\u001B[0m\u001B[0m\n\u001B[0m\u001B[1;32m    981\u001B[0m \u001B[0;34m\u001B[0m\u001B[0m\n\u001B[1;32m    982\u001B[0m             \u001B[0;31m# datetimelikes must match exactly\u001B[0m\u001B[0;34m\u001B[0m\u001B[0;34m\u001B[0m\u001B[0;34m\u001B[0m\u001B[0m\n",
      "\u001B[0;31mValueError\u001B[0m: You are trying to merge on object and int64 columns. If you wish to proceed you should use pd.concat"
     ]
    }
   ]
  },
  {
   "cell_type": "markdown",
   "source": [
    "I w końcu możemy przejść do wizualizacji danych:"
   ],
   "metadata": {
    "collapsed": false,
    "pycharm": {
     "name": "#%% md\n"
    }
   }
  },
  {
   "cell_type": "code",
   "execution_count": null,
   "outputs": [],
   "source": [
    "plt.rcParams['figure.figsize'] = (20, 20)\n",
    "sns.set(style=\"white\", font_scale=1.2)\n",
    "ax = df_ludnosc_wojewodztwa.plot(column='Ludność Ogółem', cmap='OrRd')\n",
    "ax.set_title(\"Ludność w województwach\")\n",
    "ax.grid(False)\n",
    "ax.set_axis_off()\n",
    "plt.tight_layout()\n",
    "plt.show()"
   ],
   "metadata": {
    "collapsed": false,
    "pycharm": {
     "name": "#%%\n"
    }
   }
  }
 ],
 "metadata": {
  "kernelspec": {
   "display_name": "Python 3",
   "language": "python",
   "name": "python3"
  },
  "language_info": {
   "codemirror_mode": {
    "name": "ipython",
    "version": 2
   },
   "file_extension": ".py",
   "mimetype": "text/x-python",
   "name": "python",
   "nbconvert_exporter": "python",
   "pygments_lexer": "ipython2",
   "version": "2.7.6"
  }
 },
 "nbformat": 4,
 "nbformat_minor": 0
}